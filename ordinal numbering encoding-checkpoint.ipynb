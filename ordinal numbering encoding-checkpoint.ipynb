{
 "cells": [
  {
   "cell_type": "markdown",
   "id": "5d1f5d78",
   "metadata": {},
   "source": [
    "# Ordinal numbering encoding\n",
    "**Ordinal categorical variables**\n",
    "\n",
    "Categorical variable which categories can be meaningfully ordered are called ordinal. For example:\n",
    "\n",
    "- Student's grade in an exam (A, B, C or Fail).\n",
    "- Days of the week can be ordinal with Monday = 1, and Sunday = 7.\n",
    "- Educational level, with the categories: Elementary school, High school, College graduate, PhD ranked from 1 to 4.\n",
    "- When the categorical variable is ordinal, the most straightforward approach is to replace the labels by some ordinal number.\n",
    "\n",
    "**Advantages**\n",
    "\n",
    "- Keeps the semantical information of the variable (human readable content)\n",
    "- Straightforward\n",
    "\n",
    "**Disadvantage**\n",
    "\n",
    "- Does not add machine learning valuable information\n",
    "- I will simulate some data below to demonstrate this exercise"
   ]
  },
  {
   "cell_type": "code",
   "execution_count": 24,
   "id": "a7c8f0a2",
   "metadata": {},
   "outputs": [],
   "source": [
    "import pandas as pd\n",
    "import datetime\n",
    "import calendar"
   ]
  },
  {
   "cell_type": "code",
   "execution_count": 25,
   "id": "14081308",
   "metadata": {},
   "outputs": [],
   "source": [
    "# create a variable with dates, and from  that extract the weekday"
   ]
  },
  {
   "cell_type": "code",
   "execution_count": 26,
   "id": "c070e016",
   "metadata": {},
   "outputs": [
    {
     "data": {
      "text/plain": [
       "datetime.datetime(2022, 11, 24, 21, 33, 35, 724044)"
      ]
     },
     "execution_count": 26,
     "metadata": {},
     "output_type": "execute_result"
    }
   ],
   "source": [
    "df_base  = datetime.datetime.today()\n",
    "df_base"
   ]
  },
  {
   "cell_type": "code",
   "execution_count": 27,
   "id": "cba2d9c8",
   "metadata": {},
   "outputs": [
    {
     "data": {
      "text/plain": [
       "datetime.datetime(2022, 11, 22, 21, 33, 35, 724044)"
      ]
     },
     "execution_count": 27,
     "metadata": {},
     "output_type": "execute_result"
    }
   ],
   "source": [
    "d = df_base - datetime.timedelta(days = 2)\n",
    "\n",
    "d"
   ]
  },
  {
   "cell_type": "code",
   "execution_count": 28,
   "id": "115d7be1",
   "metadata": {},
   "outputs": [
    {
     "data": {
      "text/plain": [
       "[datetime.datetime(2022, 11, 24, 21, 33, 35, 724044),\n",
       " datetime.datetime(2022, 11, 23, 21, 33, 35, 724044),\n",
       " datetime.datetime(2022, 11, 22, 21, 33, 35, 724044),\n",
       " datetime.datetime(2022, 11, 21, 21, 33, 35, 724044),\n",
       " datetime.datetime(2022, 11, 20, 21, 33, 35, 724044),\n",
       " datetime.datetime(2022, 11, 19, 21, 33, 35, 724044),\n",
       " datetime.datetime(2022, 11, 18, 21, 33, 35, 724044),\n",
       " datetime.datetime(2022, 11, 17, 21, 33, 35, 724044),\n",
       " datetime.datetime(2022, 11, 16, 21, 33, 35, 724044),\n",
       " datetime.datetime(2022, 11, 15, 21, 33, 35, 724044),\n",
       " datetime.datetime(2022, 11, 14, 21, 33, 35, 724044),\n",
       " datetime.datetime(2022, 11, 13, 21, 33, 35, 724044),\n",
       " datetime.datetime(2022, 11, 12, 21, 33, 35, 724044),\n",
       " datetime.datetime(2022, 11, 11, 21, 33, 35, 724044),\n",
       " datetime.datetime(2022, 11, 10, 21, 33, 35, 724044),\n",
       " datetime.datetime(2022, 11, 9, 21, 33, 35, 724044),\n",
       " datetime.datetime(2022, 11, 8, 21, 33, 35, 724044),\n",
       " datetime.datetime(2022, 11, 7, 21, 33, 35, 724044),\n",
       " datetime.datetime(2022, 11, 6, 21, 33, 35, 724044),\n",
       " datetime.datetime(2022, 11, 5, 21, 33, 35, 724044)]"
      ]
     },
     "execution_count": 28,
     "metadata": {},
     "output_type": "execute_result"
    }
   ],
   "source": [
    "# create a list of dates with 20 days difference from today\n",
    "# then transform it into a dataframe\n",
    "\n",
    "\n",
    "df_date_list = [df_base - datetime.timedelta(days = x) for x in range (0,20)]\n",
    "df_date_list"
   ]
  },
  {
   "cell_type": "code",
   "execution_count": 29,
   "id": "75c4adef",
   "metadata": {},
   "outputs": [
    {
     "data": {
      "text/html": [
       "<div>\n",
       "<style scoped>\n",
       "    .dataframe tbody tr th:only-of-type {\n",
       "        vertical-align: middle;\n",
       "    }\n",
       "\n",
       "    .dataframe tbody tr th {\n",
       "        vertical-align: top;\n",
       "    }\n",
       "\n",
       "    .dataframe thead th {\n",
       "        text-align: right;\n",
       "    }\n",
       "</style>\n",
       "<table border=\"1\" class=\"dataframe\">\n",
       "  <thead>\n",
       "    <tr style=\"text-align: right;\">\n",
       "      <th></th>\n",
       "      <th>day</th>\n",
       "    </tr>\n",
       "  </thead>\n",
       "  <tbody>\n",
       "    <tr>\n",
       "      <th>0</th>\n",
       "      <td>2022-11-24 21:33:35.724044</td>\n",
       "    </tr>\n",
       "    <tr>\n",
       "      <th>1</th>\n",
       "      <td>2022-11-23 21:33:35.724044</td>\n",
       "    </tr>\n",
       "    <tr>\n",
       "      <th>2</th>\n",
       "      <td>2022-11-22 21:33:35.724044</td>\n",
       "    </tr>\n",
       "    <tr>\n",
       "      <th>3</th>\n",
       "      <td>2022-11-21 21:33:35.724044</td>\n",
       "    </tr>\n",
       "    <tr>\n",
       "      <th>4</th>\n",
       "      <td>2022-11-20 21:33:35.724044</td>\n",
       "    </tr>\n",
       "    <tr>\n",
       "      <th>5</th>\n",
       "      <td>2022-11-19 21:33:35.724044</td>\n",
       "    </tr>\n",
       "    <tr>\n",
       "      <th>6</th>\n",
       "      <td>2022-11-18 21:33:35.724044</td>\n",
       "    </tr>\n",
       "    <tr>\n",
       "      <th>7</th>\n",
       "      <td>2022-11-17 21:33:35.724044</td>\n",
       "    </tr>\n",
       "    <tr>\n",
       "      <th>8</th>\n",
       "      <td>2022-11-16 21:33:35.724044</td>\n",
       "    </tr>\n",
       "    <tr>\n",
       "      <th>9</th>\n",
       "      <td>2022-11-15 21:33:35.724044</td>\n",
       "    </tr>\n",
       "    <tr>\n",
       "      <th>10</th>\n",
       "      <td>2022-11-14 21:33:35.724044</td>\n",
       "    </tr>\n",
       "    <tr>\n",
       "      <th>11</th>\n",
       "      <td>2022-11-13 21:33:35.724044</td>\n",
       "    </tr>\n",
       "    <tr>\n",
       "      <th>12</th>\n",
       "      <td>2022-11-12 21:33:35.724044</td>\n",
       "    </tr>\n",
       "    <tr>\n",
       "      <th>13</th>\n",
       "      <td>2022-11-11 21:33:35.724044</td>\n",
       "    </tr>\n",
       "    <tr>\n",
       "      <th>14</th>\n",
       "      <td>2022-11-10 21:33:35.724044</td>\n",
       "    </tr>\n",
       "    <tr>\n",
       "      <th>15</th>\n",
       "      <td>2022-11-09 21:33:35.724044</td>\n",
       "    </tr>\n",
       "    <tr>\n",
       "      <th>16</th>\n",
       "      <td>2022-11-08 21:33:35.724044</td>\n",
       "    </tr>\n",
       "    <tr>\n",
       "      <th>17</th>\n",
       "      <td>2022-11-07 21:33:35.724044</td>\n",
       "    </tr>\n",
       "    <tr>\n",
       "      <th>18</th>\n",
       "      <td>2022-11-06 21:33:35.724044</td>\n",
       "    </tr>\n",
       "    <tr>\n",
       "      <th>19</th>\n",
       "      <td>2022-11-05 21:33:35.724044</td>\n",
       "    </tr>\n",
       "  </tbody>\n",
       "</table>\n",
       "</div>"
      ],
      "text/plain": [
       "                          day\n",
       "0  2022-11-24 21:33:35.724044\n",
       "1  2022-11-23 21:33:35.724044\n",
       "2  2022-11-22 21:33:35.724044\n",
       "3  2022-11-21 21:33:35.724044\n",
       "4  2022-11-20 21:33:35.724044\n",
       "5  2022-11-19 21:33:35.724044\n",
       "6  2022-11-18 21:33:35.724044\n",
       "7  2022-11-17 21:33:35.724044\n",
       "8  2022-11-16 21:33:35.724044\n",
       "9  2022-11-15 21:33:35.724044\n",
       "10 2022-11-14 21:33:35.724044\n",
       "11 2022-11-13 21:33:35.724044\n",
       "12 2022-11-12 21:33:35.724044\n",
       "13 2022-11-11 21:33:35.724044\n",
       "14 2022-11-10 21:33:35.724044\n",
       "15 2022-11-09 21:33:35.724044\n",
       "16 2022-11-08 21:33:35.724044\n",
       "17 2022-11-07 21:33:35.724044\n",
       "18 2022-11-06 21:33:35.724044\n",
       "19 2022-11-05 21:33:35.724044"
      ]
     },
     "execution_count": 29,
     "metadata": {},
     "output_type": "execute_result"
    }
   ],
   "source": [
    "df = pd.DataFrame(df_date_list)\n",
    "df.columns = ['day']\n",
    "df"
   ]
  },
  {
   "cell_type": "code",
   "execution_count": 30,
   "id": "39b71de7",
   "metadata": {},
   "outputs": [
    {
     "data": {
      "text/html": [
       "<div>\n",
       "<style scoped>\n",
       "    .dataframe tbody tr th:only-of-type {\n",
       "        vertical-align: middle;\n",
       "    }\n",
       "\n",
       "    .dataframe tbody tr th {\n",
       "        vertical-align: top;\n",
       "    }\n",
       "\n",
       "    .dataframe thead th {\n",
       "        text-align: right;\n",
       "    }\n",
       "</style>\n",
       "<table border=\"1\" class=\"dataframe\">\n",
       "  <thead>\n",
       "    <tr style=\"text-align: right;\">\n",
       "      <th></th>\n",
       "      <th>day</th>\n",
       "      <th>name_of_day</th>\n",
       "    </tr>\n",
       "  </thead>\n",
       "  <tbody>\n",
       "    <tr>\n",
       "      <th>0</th>\n",
       "      <td>2022-11-24 21:33:35.724044</td>\n",
       "      <td>Thursday</td>\n",
       "    </tr>\n",
       "    <tr>\n",
       "      <th>1</th>\n",
       "      <td>2022-11-23 21:33:35.724044</td>\n",
       "      <td>Wednesday</td>\n",
       "    </tr>\n",
       "    <tr>\n",
       "      <th>2</th>\n",
       "      <td>2022-11-22 21:33:35.724044</td>\n",
       "      <td>Tuesday</td>\n",
       "    </tr>\n",
       "    <tr>\n",
       "      <th>3</th>\n",
       "      <td>2022-11-21 21:33:35.724044</td>\n",
       "      <td>Monday</td>\n",
       "    </tr>\n",
       "    <tr>\n",
       "      <th>4</th>\n",
       "      <td>2022-11-20 21:33:35.724044</td>\n",
       "      <td>Sunday</td>\n",
       "    </tr>\n",
       "  </tbody>\n",
       "</table>\n",
       "</div>"
      ],
      "text/plain": [
       "                         day name_of_day\n",
       "0 2022-11-24 21:33:35.724044    Thursday\n",
       "1 2022-11-23 21:33:35.724044   Wednesday\n",
       "2 2022-11-22 21:33:35.724044     Tuesday\n",
       "3 2022-11-21 21:33:35.724044      Monday\n",
       "4 2022-11-20 21:33:35.724044      Sunday"
      ]
     },
     "execution_count": 30,
     "metadata": {},
     "output_type": "execute_result"
    }
   ],
   "source": [
    "# extract the week day name\n",
    "\n",
    "\n",
    "df['name_of_day'] = df['day'].dt.day_name()         ##    df['day_of_week'] = df['day'].dt.strftime('%A')\n",
    "\n",
    "df.head()"
   ]
  },
  {
   "cell_type": "markdown",
   "id": "37cdc09f",
   "metadata": {},
   "source": [
    "# ORDINAL number encoding"
   ]
  },
  {
   "cell_type": "code",
   "execution_count": 32,
   "id": "ae2acf05",
   "metadata": {},
   "outputs": [
    {
     "data": {
      "text/html": [
       "<div>\n",
       "<style scoped>\n",
       "    .dataframe tbody tr th:only-of-type {\n",
       "        vertical-align: middle;\n",
       "    }\n",
       "\n",
       "    .dataframe tbody tr th {\n",
       "        vertical-align: top;\n",
       "    }\n",
       "\n",
       "    .dataframe thead th {\n",
       "        text-align: right;\n",
       "    }\n",
       "</style>\n",
       "<table border=\"1\" class=\"dataframe\">\n",
       "  <thead>\n",
       "    <tr style=\"text-align: right;\">\n",
       "      <th></th>\n",
       "      <th>day</th>\n",
       "      <th>name_of_day</th>\n",
       "      <th>day_ordinal</th>\n",
       "    </tr>\n",
       "  </thead>\n",
       "  <tbody>\n",
       "    <tr>\n",
       "      <th>0</th>\n",
       "      <td>2022-11-24 21:33:35.724044</td>\n",
       "      <td>Thursday</td>\n",
       "      <td>4</td>\n",
       "    </tr>\n",
       "    <tr>\n",
       "      <th>1</th>\n",
       "      <td>2022-11-23 21:33:35.724044</td>\n",
       "      <td>Wednesday</td>\n",
       "      <td>3</td>\n",
       "    </tr>\n",
       "    <tr>\n",
       "      <th>2</th>\n",
       "      <td>2022-11-22 21:33:35.724044</td>\n",
       "      <td>Tuesday</td>\n",
       "      <td>2</td>\n",
       "    </tr>\n",
       "    <tr>\n",
       "      <th>3</th>\n",
       "      <td>2022-11-21 21:33:35.724044</td>\n",
       "      <td>Monday</td>\n",
       "      <td>1</td>\n",
       "    </tr>\n",
       "    <tr>\n",
       "      <th>4</th>\n",
       "      <td>2022-11-20 21:33:35.724044</td>\n",
       "      <td>Sunday</td>\n",
       "      <td>7</td>\n",
       "    </tr>\n",
       "    <tr>\n",
       "      <th>5</th>\n",
       "      <td>2022-11-19 21:33:35.724044</td>\n",
       "      <td>Saturday</td>\n",
       "      <td>6</td>\n",
       "    </tr>\n",
       "    <tr>\n",
       "      <th>6</th>\n",
       "      <td>2022-11-18 21:33:35.724044</td>\n",
       "      <td>Friday</td>\n",
       "      <td>5</td>\n",
       "    </tr>\n",
       "    <tr>\n",
       "      <th>7</th>\n",
       "      <td>2022-11-17 21:33:35.724044</td>\n",
       "      <td>Thursday</td>\n",
       "      <td>4</td>\n",
       "    </tr>\n",
       "    <tr>\n",
       "      <th>8</th>\n",
       "      <td>2022-11-16 21:33:35.724044</td>\n",
       "      <td>Wednesday</td>\n",
       "      <td>3</td>\n",
       "    </tr>\n",
       "    <tr>\n",
       "      <th>9</th>\n",
       "      <td>2022-11-15 21:33:35.724044</td>\n",
       "      <td>Tuesday</td>\n",
       "      <td>2</td>\n",
       "    </tr>\n",
       "  </tbody>\n",
       "</table>\n",
       "</div>"
      ],
      "text/plain": [
       "                         day name_of_day  day_ordinal\n",
       "0 2022-11-24 21:33:35.724044    Thursday            4\n",
       "1 2022-11-23 21:33:35.724044   Wednesday            3\n",
       "2 2022-11-22 21:33:35.724044     Tuesday            2\n",
       "3 2022-11-21 21:33:35.724044      Monday            1\n",
       "4 2022-11-20 21:33:35.724044      Sunday            7\n",
       "5 2022-11-19 21:33:35.724044    Saturday            6\n",
       "6 2022-11-18 21:33:35.724044      Friday            5\n",
       "7 2022-11-17 21:33:35.724044    Thursday            4\n",
       "8 2022-11-16 21:33:35.724044   Wednesday            3\n",
       "9 2022-11-15 21:33:35.724044     Tuesday            2"
      ]
     },
     "execution_count": 32,
     "metadata": {},
     "output_type": "execute_result"
    }
   ],
   "source": [
    "# Engineer categorical variable by ordinal number replacement\n",
    "\n",
    "weekday_dict = {'Monday':1 , 'Tuesday':2 , 'Wednesday':3 , 'Thursday':4 , 'Friday':5 , 'Saturday':6 ,\n",
    "               'Sunday':7}\n",
    "\n",
    "df['day_ordinal'] = df.name_of_day.map(weekday_dict)\n",
    "df.head(10)"
   ]
  },
  {
   "cell_type": "code",
   "execution_count": null,
   "id": "5233e24d",
   "metadata": {},
   "outputs": [],
   "source": []
  }
 ],
 "metadata": {
  "kernelspec": {
   "display_name": "Python 3 (ipykernel)",
   "language": "python",
   "name": "python3"
  },
  "language_info": {
   "codemirror_mode": {
    "name": "ipython",
    "version": 3
   },
   "file_extension": ".py",
   "mimetype": "text/x-python",
   "name": "python",
   "nbconvert_exporter": "python",
   "pygments_lexer": "ipython3",
   "version": "3.10.4"
  },
  "varInspector": {
   "cols": {
    "lenName": 16,
    "lenType": 16,
    "lenVar": 40
   },
   "kernels_config": {
    "python": {
     "delete_cmd_postfix": "",
     "delete_cmd_prefix": "del ",
     "library": "var_list.py",
     "varRefreshCmd": "print(var_dic_list())"
    },
    "r": {
     "delete_cmd_postfix": ") ",
     "delete_cmd_prefix": "rm(",
     "library": "var_list.r",
     "varRefreshCmd": "cat(var_dic_list()) "
    }
   },
   "types_to_exclude": [
    "module",
    "function",
    "builtin_function_or_method",
    "instance",
    "_Feature"
   ],
   "window_display": false
  }
 },
 "nbformat": 4,
 "nbformat_minor": 5
}
