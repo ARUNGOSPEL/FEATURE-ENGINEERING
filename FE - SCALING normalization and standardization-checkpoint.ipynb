{
 "cells": [
  {
   "cell_type": "markdown",
   "id": "86b882ee",
   "metadata": {},
   "source": [
    "#  NORMALIZATION AND STANDARDISATION"
   ]
  },
  {
   "cell_type": "markdown",
   "id": "3137e244",
   "metadata": {},
   "source": [
    "##### TRANSFORMATION OF FEATURES\n",
    "\n",
    "**Why Transformation of features is required ?**\n",
    "\n",
    "1. Linear Regression ---Gradient descent --- Global Minima\n",
    "2. Algorithm like KNN , K Means , Hierarchichal clustering ----works on eucladian distance\n",
    "\n",
    "\n",
    "- Every point has some vectors and direction , when there is a huge difference ,it wil be difficult to find the global minima  or eucladian distance takes more time.\n",
    "-  so scaling makes it to work faster"
   ]
  },
  {
   "cell_type": "markdown",
   "id": "00159804",
   "metadata": {},
   "source": [
    "- do we need transformation in ensemble techniques where they specifically use decision trees \n",
    "  like ( random forest, xgboost)\n",
    "  \n",
    " - answer is transformation not needed for ensemble techniques \n",
    "   because decision treee splitting is based on the values."
   ]
  },
  {
   "cell_type": "markdown",
   "id": "3b504a2f",
   "metadata": {},
   "source": [
    "# * * * * * * * * * * * * * * * * * * * * * * * * * * * * * * * * * * * * * * * * * * \n"
   ]
  },
  {
   "cell_type": "markdown",
   "id": "73300033",
   "metadata": {},
   "source": [
    "# TRANSFORMATION TECHNIQUES\n",
    "\n",
    "1. Normalization & Standardization ---------------**(STANDARD SCALER)**\n",
    "\n",
    "2. Scaling to Minimum and Maximum Values --**(MINMAX SCALER)**\n",
    "\n",
    "3. Scaling to Median and Qauntiles  --------------**(ROBUST SCALER)**\n",
    "\n",
    "4. Guassian Transformation\n",
    "    \n",
    "-    Logirithmic transformation\n",
    "-    Reciprocal transformation\n",
    "-   Square root transformation\n",
    "-    Exonential transformation\n",
    "-    Box cox transformation\n",
    "\n",
    "\n",
    "**do we require transformation in ensemble techniques where we internally use DECISION trees ??**\n",
    "\n",
    "\n",
    "**NO WE DONT need to transform , because the decision trees splitting is happening based on values. so we neednot do transformation**"
   ]
  },
  {
   "cell_type": "markdown",
   "id": "773bce28",
   "metadata": {},
   "source": [
    "### STANDARDIZATION\n",
    "\n",
    "**May be features are in different units like (kg , mile, cm, pounds),...... standardization brings all variabels or features to a similar scale.**\n",
    "\n",
    "\n",
    "- Standardization rescales the data into mean of 0....and a std deviation of 1.\n",
    "\n",
    "- it can also have negative values\n",
    "\n",
    "- for namesake it is also referred to as Z-SCORE NORMALISATION.\n",
    "\n",
    "- Standardization is fitting everything into a standard normal distribution\n",
    "\n",
    "- Standardization is used on data having a Gaussian Distribution\n",
    "\n",
    "- Standardisation is not bounded by any range\n",
    "\n",
    "- Standardisation means **Centering** the variable at Zero.  z=(x-x_mean/ std)"
   ]
  },
  {
   "cell_type": "markdown",
   "id": "8d27a492",
   "metadata": {},
   "source": [
    "### NORMALIZATION\n",
    "\n",
    "- used when the data doesn't have a Gaussian distribution.\n",
    "\n",
    "- rescales all data value in the range of [0,1] "
   ]
  },
  {
   "cell_type": "code",
   "execution_count": 13,
   "id": "91418dcc",
   "metadata": {},
   "outputs": [],
   "source": [
    "import pandas as pd\n",
    "import numpy as np\n",
    "import matplotlib.pyplot as plt\n",
    "\n",
    "%matplotlib inline"
   ]
  },
  {
   "cell_type": "code",
   "execution_count": 60,
   "id": "8586c1cc",
   "metadata": {},
   "outputs": [
    {
     "data": {
      "text/html": [
       "<div>\n",
       "<style scoped>\n",
       "    .dataframe tbody tr th:only-of-type {\n",
       "        vertical-align: middle;\n",
       "    }\n",
       "\n",
       "    .dataframe tbody tr th {\n",
       "        vertical-align: top;\n",
       "    }\n",
       "\n",
       "    .dataframe thead th {\n",
       "        text-align: right;\n",
       "    }\n",
       "</style>\n",
       "<table border=\"1\" class=\"dataframe\">\n",
       "  <thead>\n",
       "    <tr style=\"text-align: right;\">\n",
       "      <th></th>\n",
       "      <th>Survived</th>\n",
       "      <th>Pclass</th>\n",
       "      <th>Age</th>\n",
       "      <th>Fare</th>\n",
       "    </tr>\n",
       "  </thead>\n",
       "  <tbody>\n",
       "    <tr>\n",
       "      <th>0</th>\n",
       "      <td>0</td>\n",
       "      <td>3</td>\n",
       "      <td>22.0</td>\n",
       "      <td>7.2500</td>\n",
       "    </tr>\n",
       "    <tr>\n",
       "      <th>1</th>\n",
       "      <td>1</td>\n",
       "      <td>1</td>\n",
       "      <td>38.0</td>\n",
       "      <td>71.2833</td>\n",
       "    </tr>\n",
       "    <tr>\n",
       "      <th>2</th>\n",
       "      <td>1</td>\n",
       "      <td>3</td>\n",
       "      <td>26.0</td>\n",
       "      <td>7.9250</td>\n",
       "    </tr>\n",
       "    <tr>\n",
       "      <th>3</th>\n",
       "      <td>1</td>\n",
       "      <td>1</td>\n",
       "      <td>35.0</td>\n",
       "      <td>53.1000</td>\n",
       "    </tr>\n",
       "    <tr>\n",
       "      <th>4</th>\n",
       "      <td>0</td>\n",
       "      <td>3</td>\n",
       "      <td>35.0</td>\n",
       "      <td>8.0500</td>\n",
       "    </tr>\n",
       "  </tbody>\n",
       "</table>\n",
       "</div>"
      ],
      "text/plain": [
       "   Survived  Pclass   Age     Fare\n",
       "0         0       3  22.0   7.2500\n",
       "1         1       1  38.0  71.2833\n",
       "2         1       3  26.0   7.9250\n",
       "3         1       1  35.0  53.1000\n",
       "4         0       3  35.0   8.0500"
      ]
     },
     "execution_count": 60,
     "metadata": {},
     "output_type": "execute_result"
    }
   ],
   "source": [
    "df = pd.read_excel(\"D:\\\\CS50\\\\projects data set\\\\titanic_dataset\\\\titanic.xlsx\", usecols=['Pclass','Age','Fare','Survived'])\n",
    "df.head()"
   ]
  },
  {
   "cell_type": "code",
   "execution_count": 61,
   "id": "34a34289",
   "metadata": {},
   "outputs": [],
   "source": [
    "df['Age'].fillna(df.Age.median(),inplace=True)"
   ]
  },
  {
   "cell_type": "code",
   "execution_count": 62,
   "id": "6f5c81f3",
   "metadata": {},
   "outputs": [
    {
     "data": {
      "text/plain": [
       "Survived    0\n",
       "Pclass      0\n",
       "Age         0\n",
       "Fare        0\n",
       "dtype: int64"
      ]
     },
     "execution_count": 62,
     "metadata": {},
     "output_type": "execute_result"
    }
   ],
   "source": [
    "df.isnull().sum()"
   ]
  },
  {
   "cell_type": "markdown",
   "id": "2f785797",
   "metadata": {},
   "source": [
    "# Standard scaler"
   ]
  },
  {
   "cell_type": "code",
   "execution_count": 63,
   "id": "bea88128",
   "metadata": {},
   "outputs": [],
   "source": [
    "# let us do standardisation with the StandardScaler from sklearn library\n",
    "\n",
    "from sklearn.preprocessing import StandardScaler"
   ]
  },
  {
   "cell_type": "markdown",
   "id": "bd0370d4",
   "metadata": {},
   "source": [
    "**difference between     fit   and   fit_transform**\n",
    "\n",
    "we train the ML Algorithm with the fit data\n",
    "\n",
    "incase if we want to change the data at that time we want to do transform"
   ]
  },
  {
   "cell_type": "code",
   "execution_count": 64,
   "id": "44eff360",
   "metadata": {},
   "outputs": [
    {
     "data": {
      "text/html": [
       "<div>\n",
       "<style scoped>\n",
       "    .dataframe tbody tr th:only-of-type {\n",
       "        vertical-align: middle;\n",
       "    }\n",
       "\n",
       "    .dataframe tbody tr th {\n",
       "        vertical-align: top;\n",
       "    }\n",
       "\n",
       "    .dataframe thead th {\n",
       "        text-align: right;\n",
       "    }\n",
       "</style>\n",
       "<table border=\"1\" class=\"dataframe\">\n",
       "  <thead>\n",
       "    <tr style=\"text-align: right;\">\n",
       "      <th></th>\n",
       "      <th>Survived</th>\n",
       "      <th>Pclass</th>\n",
       "      <th>Age</th>\n",
       "      <th>Fare</th>\n",
       "    </tr>\n",
       "  </thead>\n",
       "  <tbody>\n",
       "    <tr>\n",
       "      <th>0</th>\n",
       "      <td>-0.789272</td>\n",
       "      <td>0.827377</td>\n",
       "      <td>-0.565736</td>\n",
       "      <td>-0.502445</td>\n",
       "    </tr>\n",
       "    <tr>\n",
       "      <th>1</th>\n",
       "      <td>1.266990</td>\n",
       "      <td>-1.566107</td>\n",
       "      <td>0.663861</td>\n",
       "      <td>0.786845</td>\n",
       "    </tr>\n",
       "    <tr>\n",
       "      <th>2</th>\n",
       "      <td>1.266990</td>\n",
       "      <td>0.827377</td>\n",
       "      <td>-0.258337</td>\n",
       "      <td>-0.488854</td>\n",
       "    </tr>\n",
       "    <tr>\n",
       "      <th>3</th>\n",
       "      <td>1.266990</td>\n",
       "      <td>-1.566107</td>\n",
       "      <td>0.433312</td>\n",
       "      <td>0.420730</td>\n",
       "    </tr>\n",
       "    <tr>\n",
       "      <th>4</th>\n",
       "      <td>-0.789272</td>\n",
       "      <td>0.827377</td>\n",
       "      <td>0.433312</td>\n",
       "      <td>-0.486337</td>\n",
       "    </tr>\n",
       "  </tbody>\n",
       "</table>\n",
       "</div>"
      ],
      "text/plain": [
       "   Survived    Pclass       Age      Fare\n",
       "0 -0.789272  0.827377 -0.565736 -0.502445\n",
       "1  1.266990 -1.566107  0.663861  0.786845\n",
       "2  1.266990  0.827377 -0.258337 -0.488854\n",
       "3  1.266990 -1.566107  0.433312  0.420730\n",
       "4 -0.789272  0.827377  0.433312 -0.486337"
      ]
     },
     "execution_count": 64,
     "metadata": {},
     "output_type": "execute_result"
    }
   ],
   "source": [
    "scaler = StandardScaler()\n",
    "\n",
    "df_standard_scaler = pd.DataFrame(scaler.fit_transform(df))\n",
    "\n",
    "df_standard_scaler.columns =  df.columns\n",
    "\n",
    "df_standard_scaler.head()"
   ]
  },
  {
   "cell_type": "markdown",
   "id": "998c389e",
   "metadata": {},
   "source": [
    "## Let us look how the features are distributed"
   ]
  },
  {
   "cell_type": "code",
   "execution_count": 66,
   "id": "5b528c9f",
   "metadata": {},
   "outputs": [
    {
     "data": {
      "text/plain": [
       "(array([216.,   0.,   0.,   0.,   0., 184.,   0.,   0.,   0., 491.]),\n",
       " array([-1.56610693, -1.32675851, -1.08741009, -0.84806167, -0.60871326,\n",
       "        -0.36936484, -0.13001642,  0.10933199,  0.34868041,  0.58802883,\n",
       "         0.82737724]),\n",
       " <BarContainer object of 10 artists>)"
      ]
     },
     "execution_count": 66,
     "metadata": {},
     "output_type": "execute_result"
    },
    {
     "data": {
      "image/png": "[encoded data removed]",
      "text/plain": [
       "<Figure size 432x288 with 1 Axes>"
      ]
     },
     "metadata": {
      "needs_background": "light"
     },
     "output_type": "display_data"
    }
   ],
   "source": [
    "plt.hist(df_standard_scaler['Pclass'], bins=10)"
   ]
  },
  {
   "cell_type": "code",
   "execution_count": 72,
   "id": "6656b33e",
   "metadata": {},
   "outputs": [
    {
     "data": {
      "text/plain": [
       "(array([ 54.,  46., 177., 346., 118.,  70.,  45.,  24.,   9.,   2.]),\n",
       " array([-2.22415608, -1.61258503, -1.00101397, -0.38944292,  0.22212813,\n",
       "         0.83369919,  1.44527024,  2.05684129,  2.66841235,  3.2799834 ,\n",
       "         3.89155445]),\n",
       " <BarContainer object of 10 artists>)"
      ]
     },
     "execution_count": 72,
     "metadata": {},
     "output_type": "execute_result"
    },
    {
     "data": {
      "image/png": "[encoded data removed]",
      "text/plain": [
       "<Figure size 432x288 with 1 Axes>"
      ]
     },
     "metadata": {
      "needs_background": "light"
     },
     "output_type": "display_data"
    }
   ],
   "source": [
    "# After scaling the Age column looks like it is normally distributed\n",
    "\n",
    "plt.hist(df_standard_scaler['Age'], bins=10)"
   ]
  },
  {
   "cell_type": "code",
   "execution_count": 69,
   "id": "6d2cb384",
   "metadata": {},
   "outputs": [
    {
     "data": {
      "text/plain": [
       "(array([549.,   0.,   0.,   0.,   0.,   0.,   0.,   0.,   0., 342.]),\n",
       " array([-0.78927234, -0.58364612, -0.37801991, -0.17239369,  0.03323252,\n",
       "         0.23885873,  0.44448495,  0.65011116,  0.85573737,  1.06136359,\n",
       "         1.2669898 ]),\n",
       " <BarContainer object of 10 artists>)"
      ]
     },
     "execution_count": 69,
     "metadata": {},
     "output_type": "execute_result"
    },
    {
     "data": {
      "image/png": "[encoded data removed]",
      "text/plain": [
       "<Figure size 432x288 with 1 Axes>"
      ]
     },
     "metadata": {
      "needs_background": "light"
     },
     "output_type": "display_data"
    }
   ],
   "source": [
    "plt.hist(df_standard_scaler['Survived'], bins=10)"
   ]
  },
  {
   "cell_type": "code",
   "execution_count": 70,
   "id": "097de5a4",
   "metadata": {},
   "outputs": [
    {
     "data": {
      "text/plain": [
       "(array([732., 106.,  31.,   2.,  11.,   6.,   0.,   0.,   0.,   3.]),\n",
       " array([-0.64842165,  0.38313716,  1.41469598,  2.4462548 ,  3.47781362,\n",
       "         4.50937244,  5.54093125,  6.57249007,  7.60404889,  8.63560771,\n",
       "         9.66716653]),\n",
       " <BarContainer object of 10 artists>)"
      ]
     },
     "execution_count": 70,
     "metadata": {},
     "output_type": "execute_result"
    },
    {
     "data": {
      "image/png": "[encoded data removed]",
      "text/plain": [
       "<Figure size 432x288 with 1 Axes>"
      ]
     },
     "metadata": {
      "needs_background": "light"
     },
     "output_type": "display_data"
    }
   ],
   "source": [
    "plt.hist(df_standard_scaler['Fare'], bins=10)"
   ]
  },
  {
   "cell_type": "markdown",
   "id": "02574638",
   "metadata": {},
   "source": [
    "# MINMAX SCALING  (**CNN)\n",
    "\n",
    "- it scales the values between 0 to 1.\n",
    "\n",
    "- x_scaled = (x - x.min / (x.max - x.min))"
   ]
  },
  {
   "cell_type": "code",
   "execution_count": 29,
   "id": "21f0ca0a",
   "metadata": {},
   "outputs": [],
   "source": [
    "from sklearn.preprocessing import MinMaxScaler\n",
    "\n",
    "min_max = MinMaxScaler()"
   ]
  },
  {
   "cell_type": "code",
   "execution_count": 30,
   "id": "d3c3f5a4",
   "metadata": {},
   "outputs": [
    {
     "data": {
      "text/html": [
       "<div>\n",
       "<style scoped>\n",
       "    .dataframe tbody tr th:only-of-type {\n",
       "        vertical-align: middle;\n",
       "    }\n",
       "\n",
       "    .dataframe tbody tr th {\n",
       "        vertical-align: top;\n",
       "    }\n",
       "\n",
       "    .dataframe thead th {\n",
       "        text-align: right;\n",
       "    }\n",
       "</style>\n",
       "<table border=\"1\" class=\"dataframe\">\n",
       "  <thead>\n",
       "    <tr style=\"text-align: right;\">\n",
       "      <th></th>\n",
       "      <th>Survived</th>\n",
       "      <th>Pclass</th>\n",
       "      <th>Age</th>\n",
       "      <th>Fare</th>\n",
       "    </tr>\n",
       "  </thead>\n",
       "  <tbody>\n",
       "    <tr>\n",
       "      <th>0</th>\n",
       "      <td>0.0</td>\n",
       "      <td>1.0</td>\n",
       "      <td>0.271174</td>\n",
       "      <td>0.014151</td>\n",
       "    </tr>\n",
       "    <tr>\n",
       "      <th>1</th>\n",
       "      <td>1.0</td>\n",
       "      <td>0.0</td>\n",
       "      <td>0.472229</td>\n",
       "      <td>0.139136</td>\n",
       "    </tr>\n",
       "    <tr>\n",
       "      <th>2</th>\n",
       "      <td>1.0</td>\n",
       "      <td>1.0</td>\n",
       "      <td>0.321438</td>\n",
       "      <td>0.015469</td>\n",
       "    </tr>\n",
       "    <tr>\n",
       "      <th>3</th>\n",
       "      <td>1.0</td>\n",
       "      <td>0.0</td>\n",
       "      <td>0.434531</td>\n",
       "      <td>0.103644</td>\n",
       "    </tr>\n",
       "    <tr>\n",
       "      <th>4</th>\n",
       "      <td>0.0</td>\n",
       "      <td>1.0</td>\n",
       "      <td>0.434531</td>\n",
       "      <td>0.015713</td>\n",
       "    </tr>\n",
       "  </tbody>\n",
       "</table>\n",
       "</div>"
      ],
      "text/plain": [
       "   Survived  Pclass       Age      Fare\n",
       "0       0.0     1.0  0.271174  0.014151\n",
       "1       1.0     0.0  0.472229  0.139136\n",
       "2       1.0     1.0  0.321438  0.015469\n",
       "3       1.0     0.0  0.434531  0.103644\n",
       "4       0.0     1.0  0.434531  0.015713"
      ]
     },
     "execution_count": 30,
     "metadata": {},
     "output_type": "execute_result"
    }
   ],
   "source": [
    "df_minmax = pd.DataFrame(min_max.fit_transform(df), columns= df.columns)\n",
    "\n",
    "df_minmax.head()"
   ]
  },
  {
   "cell_type": "code",
   "execution_count": 76,
   "id": "e728bc4f",
   "metadata": {},
   "outputs": [
    {
     "data": {
      "text/plain": [
       "(array([ 54.,  46., 177., 346., 118.,  70.,  45.,  24.,   9.,   2.]),\n",
       " array([0. , 0.1, 0.2, 0.3, 0.4, 0.5, 0.6, 0.7, 0.8, 0.9, 1. ]),\n",
       " <BarContainer object of 10 artists>)"
      ]
     },
     "execution_count": 76,
     "metadata": {},
     "output_type": "execute_result"
    },
    {
     "data": {
      "image/png": "[encoded data removed]",
      "text/plain": [
       "<Figure size 432x288 with 1 Axes>"
      ]
     },
     "metadata": {
      "needs_background": "light"
     },
     "output_type": "display_data"
    }
   ],
   "source": [
    "plt.hist(df_minmax['Age'], bins=10)"
   ]
  },
  {
   "cell_type": "code",
   "execution_count": 77,
   "id": "3cd249d8",
   "metadata": {},
   "outputs": [
    {
     "data": {
      "text/plain": [
       "(array([549.,   0.,   0.,   0.,   0.,   0.,   0.,   0.,   0., 342.]),\n",
       " array([0. , 0.1, 0.2, 0.3, 0.4, 0.5, 0.6, 0.7, 0.8, 0.9, 1. ]),\n",
       " <BarContainer object of 10 artists>)"
      ]
     },
     "execution_count": 77,
     "metadata": {},
     "output_type": "execute_result"
    },
    {
     "data": {
      "image/png": "[encoded data removed]",
      "text/plain": [
       "<Figure size 432x288 with 1 Axes>"
      ]
     },
     "metadata": {
      "needs_background": "light"
     },
     "output_type": "display_data"
    }
   ],
   "source": [
    "plt.hist(df_minmax['Survived'], bins=10)"
   ]
  },
  {
   "cell_type": "code",
   "execution_count": 79,
   "id": "20d330b6",
   "metadata": {},
   "outputs": [
    {
     "data": {
      "text/plain": [
       "(array([216.,   0.,   0.,   0.,   0., 184.,   0.,   0.,   0., 491.]),\n",
       " array([0. , 0.1, 0.2, 0.3, 0.4, 0.5, 0.6, 0.7, 0.8, 0.9, 1. ]),\n",
       " <BarContainer object of 10 artists>)"
      ]
     },
     "execution_count": 79,
     "metadata": {},
     "output_type": "execute_result"
    },
    {
     "data": {
      "image/png": "[encoded data removed]",
      "text/plain": [
       "<Figure size 432x288 with 1 Axes>"
      ]
     },
     "metadata": {
      "needs_background": "light"
     },
     "output_type": "display_data"
    }
   ],
   "source": [
    "plt.hist(df_minmax['Pclass'], bins=10)"
   ]
  },
  {
   "cell_type": "code",
   "execution_count": 78,
   "id": "51b4b424",
   "metadata": {},
   "outputs": [
    {
     "data": {
      "text/plain": [
       "(array([732., 106.,  31.,   2.,  11.,   6.,   0.,   0.,   0.,   3.]),\n",
       " array([0. , 0.1, 0.2, 0.3, 0.4, 0.5, 0.6, 0.7, 0.8, 0.9, 1. ]),\n",
       " <BarContainer object of 10 artists>)"
      ]
     },
     "execution_count": 78,
     "metadata": {},
     "output_type": "execute_result"
    },
    {
     "data": {
      "image/png": "[encoded data removed]",
      "text/plain": [
       "<Figure size 432x288 with 1 Axes>"
      ]
     },
     "metadata": {
      "needs_background": "light"
     },
     "output_type": "display_data"
    }
   ],
   "source": [
    "plt.hist(df_minmax['Fare'], bins=10)"
   ]
  },
  {
   "cell_type": "markdown",
   "id": "6f27f87c",
   "metadata": {},
   "source": [
    "# ROBUST SCALER\n",
    "\n",
    "- used to scale the feature to median and quantiles\n",
    "\n",
    "\n",
    "- scaling using median and quantiles consists of subtracting the median to all the observations,and then dividing by the interquantile difference. The interquantile difference is the difference between the 75th and 25th quantile;\n",
    "\n",
    "\n",
    "\n",
    "- IQR diff = 75th quantile -25th quantile\n",
    "\n",
    "\n",
    "- ROBUST SCALING = (x - x.median) / IQR diff"
   ]
  },
  {
   "cell_type": "code",
   "execution_count": 33,
   "id": "a3567190",
   "metadata": {},
   "outputs": [
    {
     "data": {
      "text/html": [
       "<div>\n",
       "<style scoped>\n",
       "    .dataframe tbody tr th:only-of-type {\n",
       "        vertical-align: middle;\n",
       "    }\n",
       "\n",
       "    .dataframe tbody tr th {\n",
       "        vertical-align: top;\n",
       "    }\n",
       "\n",
       "    .dataframe thead th {\n",
       "        text-align: right;\n",
       "    }\n",
       "</style>\n",
       "<table border=\"1\" class=\"dataframe\">\n",
       "  <thead>\n",
       "    <tr style=\"text-align: right;\">\n",
       "      <th></th>\n",
       "      <th>Survived</th>\n",
       "      <th>Pclass</th>\n",
       "      <th>Age</th>\n",
       "      <th>Fare</th>\n",
       "    </tr>\n",
       "  </thead>\n",
       "  <tbody>\n",
       "    <tr>\n",
       "      <th>0</th>\n",
       "      <td>0.0</td>\n",
       "      <td>0.0</td>\n",
       "      <td>-0.461538</td>\n",
       "      <td>-0.312011</td>\n",
       "    </tr>\n",
       "    <tr>\n",
       "      <th>1</th>\n",
       "      <td>1.0</td>\n",
       "      <td>-2.0</td>\n",
       "      <td>0.769231</td>\n",
       "      <td>2.461242</td>\n",
       "    </tr>\n",
       "    <tr>\n",
       "      <th>2</th>\n",
       "      <td>1.0</td>\n",
       "      <td>0.0</td>\n",
       "      <td>-0.153846</td>\n",
       "      <td>-0.282777</td>\n",
       "    </tr>\n",
       "    <tr>\n",
       "      <th>3</th>\n",
       "      <td>1.0</td>\n",
       "      <td>-2.0</td>\n",
       "      <td>0.538462</td>\n",
       "      <td>1.673732</td>\n",
       "    </tr>\n",
       "    <tr>\n",
       "      <th>4</th>\n",
       "      <td>0.0</td>\n",
       "      <td>0.0</td>\n",
       "      <td>0.538462</td>\n",
       "      <td>-0.277363</td>\n",
       "    </tr>\n",
       "  </tbody>\n",
       "</table>\n",
       "</div>"
      ],
      "text/plain": [
       "   Survived  Pclass       Age      Fare\n",
       "0       0.0     0.0 -0.461538 -0.312011\n",
       "1       1.0    -2.0  0.769231  2.461242\n",
       "2       1.0     0.0 -0.153846 -0.282777\n",
       "3       1.0    -2.0  0.538462  1.673732\n",
       "4       0.0     0.0  0.538462 -0.277363"
      ]
     },
     "execution_count": 33,
     "metadata": {},
     "output_type": "execute_result"
    }
   ],
   "source": [
    "from sklearn.preprocessing import RobustScaler\n",
    "\n",
    "scaler = RobustScaler()\n",
    "\n",
    "df_robust_scaler = pd.DataFrame(scaler.fit_transform(df), columns= df.columns)\n",
    "\n",
    "df_robust_scaler.head()"
   ]
  },
  {
   "cell_type": "code",
   "execution_count": 73,
   "id": "10544369",
   "metadata": {},
   "outputs": [
    {
     "data": {
      "text/plain": [
       "(array([732., 106.,  31.,   2.,  11.,   6.,   0.,   0.,   0.,   3.]),\n",
       " array([-0.62600478,  1.59286952,  3.81174382,  6.03061811,  8.24949241,\n",
       "        10.46836671, 12.68724101, 14.90611531, 17.12498961, 19.3438639 ,\n",
       "        21.5627382 ]),\n",
       " <BarContainer object of 10 artists>)"
      ]
     },
     "execution_count": 73,
     "metadata": {},
     "output_type": "execute_result"
    },
    {
     "data": {
      "image/png": "[encoded data removed]",
      "text/plain": [
       "<Figure size 432x288 with 1 Axes>"
      ]
     },
     "metadata": {
      "needs_background": "light"
     },
     "output_type": "display_data"
    }
   ],
   "source": [
    "plt.hist(df_robust_scaler['Fare'], bins=10)\n",
    "\n",
    "# values are scaled between 0 t0 20"
   ]
  },
  {
   "cell_type": "code",
   "execution_count": 74,
   "id": "76dd85f0",
   "metadata": {},
   "outputs": [
    {
     "data": {
      "text/plain": [
       "(array([ 54.,  46., 177., 346., 118.,  70.,  45.,  24.,   9.,   2.]),\n",
       " array([-2.12153846, -1.50938462, -0.89723077, -0.28507692,  0.32707692,\n",
       "         0.93923077,  1.55138462,  2.16353846,  2.77569231,  3.38784615,\n",
       "         4.        ]),\n",
       " <BarContainer object of 10 artists>)"
      ]
     },
     "execution_count": 74,
     "metadata": {},
     "output_type": "execute_result"
    },
    {
     "data": {
      "image/png": "[encoded data removed]",
      "text/plain": [
       "<Figure size 432x288 with 1 Axes>"
      ]
     },
     "metadata": {
      "needs_background": "light"
     },
     "output_type": "display_data"
    }
   ],
   "source": [
    "plt.hist(df_robust_scaler['Age'], bins=10)\n",
    "\n",
    "# values are scaled between -2 to -4"
   ]
  },
  {
   "cell_type": "code",
   "execution_count": 75,
   "id": "03ab15dc",
   "metadata": {},
   "outputs": [
    {
     "data": {
      "text/plain": [
       "(array([216.,   0.,   0.,   0.,   0., 184.,   0.,   0.,   0., 491.]),\n",
       " array([-2. , -1.8, -1.6, -1.4, -1.2, -1. , -0.8, -0.6, -0.4, -0.2,  0. ]),\n",
       " <BarContainer object of 10 artists>)"
      ]
     },
     "execution_count": 75,
     "metadata": {},
     "output_type": "execute_result"
    },
    {
     "data": {
      "image/png": "[encoded data removed]",
      "text/plain": [
       "<Figure size 432x288 with 1 Axes>"
      ]
     },
     "metadata": {
      "needs_background": "light"
     },
     "output_type": "display_data"
    }
   ],
   "source": [
    "plt.hist(df_robust_scaler['Pclass'], bins=10)\n",
    "\n",
    "# values are scaled between 0 -20"
   ]
  },
  {
   "cell_type": "markdown",
   "id": "2aff53bd",
   "metadata": {},
   "source": [
    "## GUASSIAN TRANSFORMATION\n",
    "    \n",
    "-    Logirithmic transformation - - -np.log(feature)\n",
    "\n",
    "-    Reciprocal transformation  - - -1 / feature\n",
    "\n",
    "-    Square root transformation - - - feature **(1/2)\n",
    "\n",
    "-    Exponential transformation - - - feature **(1 \\ 1.2)\n",
    "\n",
    "-    Box cox transformation"
   ]
  },
  {
   "cell_type": "markdown",
   "id": "716e4a32",
   "metadata": {},
   "source": [
    "**if our distribution is not normally distributed then we can use THE ABOVE transformations to convert it into a guassian distribution**"
   ]
  },
  {
   "cell_type": "markdown",
   "id": "206830c0",
   "metadata": {},
   "source": [
    "- some ML Algorithm like linear and logistic regression performs well if the features are normally distributed\n",
    "\n",
    "- so that the model gives good accuracy\n"
   ]
  },
  {
   "cell_type": "code",
   "execution_count": 80,
   "id": "c8634811",
   "metadata": {},
   "outputs": [
    {
     "data": {
      "text/html": [
       "<div>\n",
       "<style scoped>\n",
       "    .dataframe tbody tr th:only-of-type {\n",
       "        vertical-align: middle;\n",
       "    }\n",
       "\n",
       "    .dataframe tbody tr th {\n",
       "        vertical-align: top;\n",
       "    }\n",
       "\n",
       "    .dataframe thead th {\n",
       "        text-align: right;\n",
       "    }\n",
       "</style>\n",
       "<table border=\"1\" class=\"dataframe\">\n",
       "  <thead>\n",
       "    <tr style=\"text-align: right;\">\n",
       "      <th></th>\n",
       "      <th>Survived</th>\n",
       "      <th>Age</th>\n",
       "      <th>Fare</th>\n",
       "    </tr>\n",
       "  </thead>\n",
       "  <tbody>\n",
       "    <tr>\n",
       "      <th>0</th>\n",
       "      <td>0</td>\n",
       "      <td>22.0</td>\n",
       "      <td>7.2500</td>\n",
       "    </tr>\n",
       "    <tr>\n",
       "      <th>1</th>\n",
       "      <td>1</td>\n",
       "      <td>38.0</td>\n",
       "      <td>71.2833</td>\n",
       "    </tr>\n",
       "    <tr>\n",
       "      <th>2</th>\n",
       "      <td>1</td>\n",
       "      <td>26.0</td>\n",
       "      <td>7.9250</td>\n",
       "    </tr>\n",
       "    <tr>\n",
       "      <th>3</th>\n",
       "      <td>1</td>\n",
       "      <td>35.0</td>\n",
       "      <td>53.1000</td>\n",
       "    </tr>\n",
       "    <tr>\n",
       "      <th>4</th>\n",
       "      <td>0</td>\n",
       "      <td>35.0</td>\n",
       "      <td>8.0500</td>\n",
       "    </tr>\n",
       "  </tbody>\n",
       "</table>\n",
       "</div>"
      ],
      "text/plain": [
       "   Survived   Age     Fare\n",
       "0         0  22.0   7.2500\n",
       "1         1  38.0  71.2833\n",
       "2         1  26.0   7.9250\n",
       "3         1  35.0  53.1000\n",
       "4         0  35.0   8.0500"
      ]
     },
     "execution_count": 80,
     "metadata": {},
     "output_type": "execute_result"
    }
   ],
   "source": [
    "df = pd.read_excel(\"D:\\\\CS50\\\\projects data set\\\\titanic_dataset\\\\titanic.xlsx\", usecols=['Age','Fare','Survived'])\n",
    "df.head()"
   ]
  },
  {
   "cell_type": "code",
   "execution_count": 81,
   "id": "1e46cbf8",
   "metadata": {},
   "outputs": [],
   "source": [
    "df['Age'] = df['Age'].fillna(df['Age'].median())"
   ]
  },
  {
   "cell_type": "markdown",
   "id": "cb292569",
   "metadata": {},
   "source": [
    "##### Q-Q plot"
   ]
  },
  {
   "cell_type": "code",
   "execution_count": 82,
   "id": "5bb66e3c",
   "metadata": {},
   "outputs": [],
   "source": [
    "# if we want to check whether the feature is guassian or normal distribution \n",
    "# we can use Q-Q plot"
   ]
  },
  {
   "cell_type": "code",
   "execution_count": 94,
   "id": "02c1277d",
   "metadata": {},
   "outputs": [],
   "source": [
    "import scipy.stats as stat\n",
    "import pylab"
   ]
  },
  {
   "cell_type": "code",
   "execution_count": 95,
   "id": "c9fb198d",
   "metadata": {},
   "outputs": [],
   "source": [
    "def plot_data (df,feature):\n",
    "    plt.figure(figsize=(10,5))\n",
    "    plt.subplot(1,2,1)\n",
    "    df[feature].hist()\n",
    "    \n",
    "    plt.subplot(1,2,2)\n",
    "    stat.probplot(df[feature], dist ='norm', plot= pylab)\n",
    "    plt.show()"
   ]
  },
  {
   "cell_type": "code",
   "execution_count": 96,
   "id": "65ad1d5a",
   "metadata": {},
   "outputs": [
    {
     "data": {
      "image/png": "[encoded data removed]",
      "text/plain": [
       "<Figure size 720x360 with 2 Axes>"
      ]
     },
     "metadata": {
      "needs_background": "light"
     },
     "output_type": "display_data"
    }
   ],
   "source": [
    "plot_data(df,'Age')"
   ]
  },
  {
   "cell_type": "markdown",
   "id": "146418b3",
   "metadata": {},
   "source": [
    "# Logarithimic transformation"
   ]
  },
  {
   "cell_type": "code",
   "execution_count": 99,
   "id": "e5f91291",
   "metadata": {},
   "outputs": [
    {
     "data": {
      "image/png": "[encoded data removed]",
      "text/plain": [
       "<Figure size 720x360 with 2 Axes>"
      ]
     },
     "metadata": {
      "needs_background": "light"
     },
     "output_type": "display_data"
    }
   ],
   "source": [
    "df['Age_logarithimic'] = np.log(df['Age'])\n",
    "\n",
    "plot_data(df,'Age_logarithimic')"
   ]
  },
  {
   "cell_type": "code",
   "execution_count": 1,
   "id": "207d907d",
   "metadata": {},
   "outputs": [],
   "source": [
    "# after applying logrithimic transformation the Age feature is left skewed\n",
    "\n",
    "# so logarithimic transformation couldnt transform it into  a guassian distribution\n",
    "\n",
    "# usually logarithimic transformation works well for either right skewed or left skewed "
   ]
  },
  {
   "cell_type": "markdown",
   "id": "30a7aeb9",
   "metadata": {},
   "source": [
    "# Reciprocal transformation\n",
    "\n",
    "- 1 / feature"
   ]
  },
  {
   "cell_type": "code",
   "execution_count": 103,
   "id": "64d0134c",
   "metadata": {},
   "outputs": [
    {
     "data": {
      "image/png": "[encoded data removed]",
      "text/plain": [
       "<Figure size 720x360 with 2 Axes>"
      ]
     },
     "metadata": {
      "needs_background": "light"
     },
     "output_type": "display_data"
    }
   ],
   "source": [
    "df['Age_reciprocal'] = 1 / df['Age']\n",
    "\n",
    "plot_data(df,'Age_reciprocal')"
   ]
  },
  {
   "cell_type": "markdown",
   "id": "17506138",
   "metadata": {},
   "source": [
    "# Square root transformation\n",
    "\n",
    "- feature **(1/2)"
   ]
  },
  {
   "cell_type": "code",
   "execution_count": 104,
   "id": "30460232",
   "metadata": {},
   "outputs": [
    {
     "data": {
      "image/png": "[encoded data removed]",
      "text/plain": [
       "<Figure size 720x360 with 2 Axes>"
      ]
     },
     "metadata": {
      "needs_background": "light"
     },
     "output_type": "display_data"
    }
   ],
   "source": [
    "\n",
    "df['Age_square_root'] = df['Age']**(1/2)\n",
    "\n",
    "plot_data(df,'Age_square_root')"
   ]
  },
  {
   "cell_type": "markdown",
   "id": "ecd077d0",
   "metadata": {},
   "source": [
    "# Exponential Transformation\n",
    "\n",
    "- feature **(1 \\ 1.2)"
   ]
  },
  {
   "cell_type": "code",
   "execution_count": 106,
   "id": "81fb1c11",
   "metadata": {},
   "outputs": [
    {
     "data": {
      "image/png": "[encoded data removed]",
      "text/plain": [
       "<Figure size 720x360 with 2 Axes>"
      ]
     },
     "metadata": {
      "needs_background": "light"
     },
     "output_type": "display_data"
    }
   ],
   "source": [
    "\n",
    "df['Age_exponential'] = df['Age']**(1/1.2)\n",
    "\n",
    "plot_data(df,'Age_exponential')"
   ]
  },
  {
   "cell_type": "markdown",
   "id": "24efd5ea",
   "metadata": {},
   "source": [
    "# Boxcox transformation"
   ]
  },
  {
   "cell_type": "code",
   "execution_count": 108,
   "id": "fd88f500",
   "metadata": {},
   "outputs": [],
   "source": [
    "df['Age_boxcox'], parameters = stat.boxcox(df['Age'])"
   ]
  },
  {
   "cell_type": "code",
   "execution_count": 109,
   "id": "2f640da4",
   "metadata": {},
   "outputs": [
    {
     "data": {
      "text/plain": [
       "0.7964531473656952"
      ]
     },
     "execution_count": 109,
     "metadata": {},
     "output_type": "execute_result"
    }
   ],
   "source": [
    "parameters"
   ]
  },
  {
   "cell_type": "code",
   "execution_count": 110,
   "id": "14b653a6",
   "metadata": {},
   "outputs": [
    {
     "data": {
      "image/png": "[encoded data removed]",
      "text/plain": [
       "<Figure size 720x360 with 2 Axes>"
      ]
     },
     "metadata": {
      "needs_background": "light"
     },
     "output_type": "display_data"
    }
   ],
   "source": [
    " plot_data(df,'Age_boxcox')"
   ]
  },
  {
   "cell_type": "markdown",
   "id": "52292d0f",
   "metadata": {},
   "source": [
    "- for the age column \n",
    "\n",
    "- Both the ( Logarithimic, Reciprocal transformation ) couldn't make a guassian distribution\n",
    "\n",
    "- but **BOXCOX** transformation and **EXPONENTIAL** transformation works better and gave a guassian distribution\n",
    "\n",
    "- in my view ......the best transformation here is (exponential or Boxcox) transformation makes it a normally distributed"
   ]
  },
  {
   "cell_type": "code",
   "execution_count": null,
   "id": "dedfedda",
   "metadata": {},
   "outputs": [],
   "source": []
  }
 ],
 "metadata": {
  "kernelspec": {
   "display_name": "Python 3 (ipykernel)",
   "language": "python",
   "name": "python3"
  },
  "language_info": {
   "codemirror_mode": {
    "name": "ipython",
    "version": 3
   },
   "file_extension": ".py",
   "mimetype": "text/x-python",
   "name": "python",
   "nbconvert_exporter": "python",
   "pygments_lexer": "ipython3",
   "version": "3.10.4"
  },
  "varInspector": {
   "cols": {
    "lenName": 16,
    "lenType": 16,
    "lenVar": 40
   },
   "kernels_config": {
    "python": {
     "delete_cmd_postfix": "",
     "delete_cmd_prefix": "del ",
     "library": "var_list.py",
     "varRefreshCmd": "print(var_dic_list())"
    },
    "r": {
     "delete_cmd_postfix": ") ",
     "delete_cmd_prefix": "rm(",
     "library": "var_list.r",
     "varRefreshCmd": "cat(var_dic_list()) "
    }
   },
   "types_to_exclude": [
    "module",
    "function",
    "builtin_function_or_method",
    "instance",
    "_Feature"
   ],
   "window_display": false
  }
 },
 "nbformat": 4,
 "nbformat_minor": 5
}
