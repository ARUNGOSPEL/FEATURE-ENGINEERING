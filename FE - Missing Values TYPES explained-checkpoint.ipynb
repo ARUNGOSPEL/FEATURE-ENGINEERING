{
 "cells": [
  {
   "cell_type": "markdown",
   "id": "c8c6ba57",
   "metadata": {},
   "source": [
    "# MISSING  VALUES ----; explanation"
   ]
  },
  {
   "cell_type": "markdown",
   "id": "580fa1b9",
   "metadata": {},
   "source": [
    "## Missing values\n",
    "\n",
    "Missing data, or Missing values, occur when no data / no value is stored for a certain observation within a variable.\n",
    "\n",
    "Missing data are a common occurrence both in data science competitions and in data in business settings, and can have a significant effect on the conclusions that can be drawn from the data. \n",
    "\n",
    "Incomplete data is an unavoidable problem in dealing with most data sources."
   ]
  },
  {
   "cell_type": "markdown",
   "id": "ff8b4861",
   "metadata": {},
   "source": [
    "## Missing Data Mechanisms\n",
    "There are 3 mechanisms that lead to missing data, 2 of them involve missing data randomly or almost-randomly, and the third one involves a systematic loss of data.\n",
    "\n",
    "### Missing Completely at Random, MCAR:\n",
    "\n",
    "A variable is missing completely at random (MCAR) if the probability of being missing is the same for all the observations. \n",
    "\n",
    "When data is MCAR, there is absolutely no relationship between the data missing and any other values, observed or missing, within the dataset. \n",
    "\n",
    "In other words, those missing data points are a random subset of the data. There is nothing systematic going on that makes some data more likely to be missing than other.\n",
    "\n",
    "If values for observations are missing completely at random, then disregarding those cases would not bias the inferences made.\n",
    "\n",
    "### Missing at Random, MAR:\n",
    "\n",
    "MAR occurs when there is a systematic relationship between the propensity of missing values and the observed data. \n",
    "\n",
    "In other words, the probability an observation being missing depends only on available information (other variables in the dataset). \n",
    "\n",
    "**For example**, \n",
    "\n",
    "    if men are more likely to disclose their weight than women, weight is MAR. The weight information will be missing at random for those men and women that decided not to disclose their weight, but as men are more prone to disclose it, there will be more missing values for women than for men.\n",
    "\n",
    "In a situation like the above, if we decide to proceed with the variable with missing values (in this case weight), we might benefit from including gender to control the bias in weight for the missing observations.\n",
    "\n",
    "### Missing Not at Random, MNAR:\n",
    "\n",
    "Missing of values is not at random (MNAR) if their being missing depends on information not recorded in the dataset. In other words, there is a mechanism or a reason why missing values are introduced in the dataset.\n",
    "\n"
   ]
  },
  {
   "cell_type": "markdown",
   "id": "b58f6c52",
   "metadata": {},
   "source": [
    "**Examples:**\n",
    "\n",
    "    MNAR would occur if people failed to fill in a depression survey because of their level of depression. Here, the missing of data is related to the outcome, depression.\n",
    "\n",
    "    When a financial company asks for bank and identity documents from customers in order to prevent identity fraud, typically, fraudsters impersonating someone else will not upload documents, because they don't have them, precisely because they are fraudsters. Therefore, there is a systematic relationship between the missing documents and the target we want to predict: fraud.\n",
    "\n",
    "Understanding the mechanism by which data can be missing is important to decide which methods to use to handle the missing values. "
   ]
  },
  {
   "cell_type": "code",
   "execution_count": null,
   "id": "7fe92bda",
   "metadata": {},
   "outputs": [],
   "source": []
  }
 ],
 "metadata": {
  "kernelspec": {
   "display_name": "Python 3 (ipykernel)",
   "language": "python",
   "name": "python3"
  },
  "language_info": {
   "codemirror_mode": {
    "name": "ipython",
    "version": 3
   },
   "file_extension": ".py",
   "mimetype": "text/x-python",
   "name": "python",
   "nbconvert_exporter": "python",
   "pygments_lexer": "ipython3",
   "version": "3.10.4"
  },
  "varInspector": {
   "cols": {
    "lenName": 16,
    "lenType": 16,
    "lenVar": 40
   },
   "kernels_config": {
    "python": {
     "delete_cmd_postfix": "",
     "delete_cmd_prefix": "del ",
     "library": "var_list.py",
     "varRefreshCmd": "print(var_dic_list())"
    },
    "r": {
     "delete_cmd_postfix": ") ",
     "delete_cmd_prefix": "rm(",
     "library": "var_list.r",
     "varRefreshCmd": "cat(var_dic_list()) "
    }
   },
   "types_to_exclude": [
    "module",
    "function",
    "builtin_function_or_method",
    "instance",
    "_Feature"
   ],
   "window_display": false
  }
 },
 "nbformat": 4,
 "nbformat_minor": 5
}
